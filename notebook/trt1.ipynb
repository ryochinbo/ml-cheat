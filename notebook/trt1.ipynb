{
 "cells": [
  {
   "cell_type": "markdown",
   "id": "039fbf08-b462-4e74-b5b5-06dd86a5671c",
   "metadata": {},
   "source": [
    "# 課題1\n",
    "3回分の内容を入れています。  \n",
    "処理してみてください  \n",
    "\n",
    "**フォルダ構成**  \n",
    "`try1.ipynb`を新規に作成して取り組んでください\n",
    "- C:/jupyter/input/try1/*csv\n",
    "- C:/jupyter/notebook/try1.ipynb\n",
    "\n",
    "**ファイル一覧**\n",
    "|ファイル名|説明|\n",
    "|:-:|:-:|\n",
    "|experiment1.csv|実験データ1|\n",
    "|diff_experiment2.csv|実験データ2　追加分実験データ|\n",
    "|diff_experiment3.csv|実験データ3　追加分実験データ|\n",
    "|mst_columns.csv|カラム名の入ったデータ|\n",
    "|mst_material1.csv|材料1の特性データベース|\n",
    "|mst_material2.csv|材料2の特性データベース|\n",
    "\n",
    "\n",
    "**想定場面**\n",
    ">あなたは材料の配合実験およびその生成物の評価を行っています。\n",
    ">材料の組み合わせ実験を様々なテーマで扱うため  \n",
    ">材料データベースとして材料の特性データはマスタデータとして  \n",
    ">水準表とは別で管理しています。\n",
    ">また実験は一人ではなく、複数人（日本人とアメリカ人）かつ数日にわけて実験をしているため、  \n",
    ">フォーマットは決まっていますが、水準表は分かれています。\n",
    ">これらを一つのテーブルで見えるように結合してください。"
   ]
  },
  {
   "cell_type": "markdown",
   "id": "d0680bee-4aa9-4d7f-83e9-1d71d92202e1",
   "metadata": {},
   "source": [
    "## ライブラリのインポート\n",
    "使用するライブラリを使用可能状態にしてください"
   ]
  },
  {
   "cell_type": "code",
   "execution_count": null,
   "id": "2b3917aa-ece7-4c2f-aefe-b630deffc5bf",
   "metadata": {},
   "outputs": [],
   "source": []
  },
  {
   "cell_type": "code",
   "execution_count": null,
   "id": "e01a047e-f5dc-4909-a775-dbc6193aecec",
   "metadata": {},
   "outputs": [],
   "source": []
  },
  {
   "cell_type": "markdown",
   "id": "8922f5ae-0123-43a6-aafb-dbdc576ac394",
   "metadata": {},
   "source": [
    "## メインデータの読み込み\n",
    "`experiment1.csv`を読み込んでください"
   ]
  },
  {
   "cell_type": "code",
   "execution_count": null,
   "id": "040ce726-0c3c-41a2-9ed5-7176f1c3a522",
   "metadata": {},
   "outputs": [],
   "source": []
  },
  {
   "cell_type": "code",
   "execution_count": null,
   "id": "fa509d90-f07c-4557-a6cf-8740b87d0643",
   "metadata": {},
   "outputs": [],
   "source": []
  },
  {
   "cell_type": "markdown",
   "id": "6f869f35-25c9-427e-b74c-d1447d8f8191",
   "metadata": {},
   "source": [
    "## カラムの追加\n",
    "`mst_columns.csv`を読み込んでください  \n",
    "データ処理するうえで日本語はよくトラブルの原因になるのでまずは英語で取り込みましょう\n"
   ]
  },
  {
   "cell_type": "code",
   "execution_count": null,
   "id": "fb9dcbd8-7a7d-4138-8e35-604f758b4249",
   "metadata": {},
   "outputs": [],
   "source": []
  },
  {
   "cell_type": "code",
   "execution_count": null,
   "id": "ccfa715d-a469-42d5-90ab-3be05341a032",
   "metadata": {},
   "outputs": [],
   "source": []
  },
  {
   "cell_type": "markdown",
   "id": "ff85b038-4a74-4563-ab90-fba9bc89a204",
   "metadata": {},
   "source": [
    "## ほかのデータとの結合 \n",
    "`diff_experiment***.csv`を読み込んでexperiment1に追加してください"
   ]
  },
  {
   "cell_type": "code",
   "execution_count": null,
   "id": "82d218e3-f5dc-4ddd-a111-2ad8dd2bbb7a",
   "metadata": {},
   "outputs": [],
   "source": []
  },
  {
   "cell_type": "code",
   "execution_count": null,
   "id": "1da4d3a1-b0e6-488d-80a9-b31ab714f38a",
   "metadata": {},
   "outputs": [],
   "source": []
  },
  {
   "cell_type": "markdown",
   "id": "e7dd4e0a-72b6-42f4-a58c-d931e7e3274f",
   "metadata": {},
   "source": [
    "## 特性データの追加\n",
    "追加したデータセットに材料の特性を追加して、テーブル一つに情報を集約しましょう   \n",
    "`0212.ipynb`を参考にトライしてみてください。"
   ]
  },
  {
   "cell_type": "markdown",
   "id": "35da71e2-259f-4ef6-8e8e-1170ec10abdf",
   "metadata": {},
   "source": []
  },
  {
   "cell_type": "code",
   "execution_count": null,
   "id": "b0c63068-e6ef-4c0b-80da-28fbfc566fee",
   "metadata": {},
   "outputs": [],
   "source": []
  }
 ],
 "metadata": {
  "kernelspec": {
   "display_name": "Python 3 (ipykernel)",
   "language": "python",
   "name": "python3"
  },
  "language_info": {
   "codemirror_mode": {
    "name": "ipython",
    "version": 3
   },
   "file_extension": ".py",
   "mimetype": "text/x-python",
   "name": "python",
   "nbconvert_exporter": "python",
   "pygments_lexer": "ipython3",
   "version": "3.10.6"
  }
 },
 "nbformat": 4,
 "nbformat_minor": 5
}
